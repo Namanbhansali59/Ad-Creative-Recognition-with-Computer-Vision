{
 "cells": [
  {
   "cell_type": "code",
   "execution_count": 1,
   "metadata": {},
   "outputs": [],
   "source": [
    "import tensorflow as tf\n",
    "from keras import layers, models\n",
    "from keras.applications import VGG16\n",
    "from keras.preprocessing.image import ImageDataGenerator\n",
    "from keras.models import load_model\n",
    "import keras.utils as image\n",
    "import os\n",
    "import matplotlib.pyplot as plt\n",
    "import numpy as np"
   ]
  },
  {
   "cell_type": "code",
   "execution_count": 2,
   "metadata": {},
   "outputs": [],
   "source": [
    "def create_augmented_images(input_directory, output_directory, augmentation_params, num_augmentations=5):\n",
    "    \n",
    "    # Create an ImageDataGenerator with the specified augmentations\n",
    "    datagen = image.ImageDataGenerator(**augmentation_params)\n",
    "\n",
    "    # Get a list of all image files in the input directory\n",
    "    image_files = [f for f in os.listdir(input_directory) if os.path.isfile(os.path.join(input_directory, f))]\n",
    "\n",
    "    # Create the output directory if it doesn't exist\n",
    "    os.makedirs(output_directory, exist_ok=True)\n",
    "\n",
    "    # Loop through each image file\n",
    "    for _ in image_files:\n",
    "        img_path = os.path.join(input_directory, _)\n",
    "\n",
    "        # Load the image\n",
    "        img = image.load_img(img_path)\n",
    "        x = image.img_to_array(img)\n",
    "        x = np.expand_dims(x, axis=0)\n",
    "\n",
    "        # Generate augmented images\n",
    "        for i, _ in enumerate(datagen.flow(x, batch_size=1, save_to_dir=output_directory, save_prefix=f'aug_{i}', save_format='jpeg')):\n",
    "            if i >= num_augmentations:\n",
    "                break\n"
   ]
  },
  {
   "cell_type": "code",
   "execution_count": 3,
   "metadata": {},
   "outputs": [],
   "source": [
    "# input_directory = \"./Val/ad/\"\n",
    "# output_directory = \"./Val/ad_aug/\"\n",
    "augmentation_params = {\n",
    "    'rotation_range': 40,\n",
    "    'width_shift_range': 0.2,\n",
    "    'height_shift_range': 0.2,\n",
    "    'zoom_range': 0.2,\n",
    "    'horizontal_flip': True,\n",
    "}\n",
    "\n",
    "#create_augmented_images(input_directory, output_directory, augmentation_params)\n"
   ]
  },
  {
   "cell_type": "code",
   "execution_count": 4,
   "metadata": {},
   "outputs": [],
   "source": [
    "\n",
    "# input_directory = \"./Train/ad/\"\n",
    "# output_directory = \"./Train/ad_aug/\"\n",
    "augmentation_params = {\n",
    "    'rotation_range': 40,\n",
    "    'width_shift_range': 0.2,\n",
    "    'height_shift_range': 0.2,\n",
    "    'zoom_range': 0.2,\n",
    "    'horizontal_flip': True,\n",
    "}\n",
    "\n",
    "#create_augmented_images(input_directory, output_directory, augmentation_params)\n"
   ]
  },
  {
   "cell_type": "code",
   "execution_count": 5,
   "metadata": {},
   "outputs": [
    {
     "name": "stdout",
     "output_type": "stream",
     "text": [
      "Found 330 images belonging to 2 classes.\n",
      "Found 330 images belonging to 2 classes.\n"
     ]
    }
   ],
   "source": [
    "# Define data generators\n",
    "train_datagen = ImageDataGenerator(rescale=1./255)\n",
    "validation_datagen = ImageDataGenerator(rescale=1./255)\n",
    "\n",
    "train_generator = train_datagen.flow_from_directory('./Train/Train_aug', \n",
    "                                                    target_size=(200, 200),\n",
    "                                                    batch_size=32,\n",
    "                                                    class_mode='binary')\n",
    "\n",
    "validation_generator = validation_datagen.flow_from_directory('./Val/Val_aug',\n",
    "                                                              target_size=(200, 200),\n",
    "                                                              batch_size=32,\n",
    "                                                              class_mode='binary')\n",
    "\n",
    "\n"
   ]
  },
  {
   "cell_type": "code",
   "execution_count": 6,
   "metadata": {},
   "outputs": [
    {
     "name": "stdout",
     "output_type": "stream",
     "text": [
      "Model: \"sequential\"\n",
      "_________________________________________________________________\n",
      " Layer (type)                Output Shape              Param #   \n",
      "=================================================================\n",
      " vgg16 (Functional)          (None, 6, 6, 512)         14714688  \n",
      "                                                                 \n",
      " flatten (Flatten)           (None, 18432)             0         \n",
      "                                                                 \n",
      " dense (Dense)               (None, 512)               9437696   \n",
      "                                                                 \n",
      " dense_1 (Dense)             (None, 1)                 513       \n",
      "                                                                 \n",
      "=================================================================\n",
      "Total params: 24,152,897\n",
      "Trainable params: 9,438,209\n",
      "Non-trainable params: 14,714,688\n",
      "_________________________________________________________________\n"
     ]
    }
   ],
   "source": [
    "\n",
    "base_model = VGG16(weights='imagenet', include_top=False, input_shape=(200, 200, 3))\n",
    "\n",
    "\n",
    "for layer in base_model.layers:\n",
    "    layer.trainable = False\n",
    "\n",
    "\n",
    "model_0 = models.Sequential([\n",
    "    base_model,\n",
    "    layers.Flatten(name='flatten'),\n",
    "    layers.Dense(512, activation='relu', name='dense'),\n",
    "    layers.Dense(1, activation='sigmoid', name='dense_1')\n",
    "])\n",
    "\n",
    "# Compile the model\n",
    "model_0.compile(optimizer=tf.keras.optimizers.Adam(learning_rate=0.0001),\n",
    "              loss='binary_crossentropy',\n",
    "              metrics=['accuracy'])\n",
    "\n",
    "\n",
    "model_0.summary()\n"
   ]
  },
  {
   "cell_type": "code",
   "execution_count": 7,
   "metadata": {},
   "outputs": [
    {
     "name": "stdout",
     "output_type": "stream",
     "text": [
      "Epoch 1/20\n"
     ]
    }
   ],
   "source": [
    "# Train the model\n",
    "history = model_0.fit(train_generator,\n",
    "                    epochs=20,\n",
    "                    validation_data=validation_generator)\n"
   ]
  },
  {
   "cell_type": "code",
   "execution_count": null,
   "metadata": {},
   "outputs": [],
   "source": [
    "model_0.save('model_0.h5')"
   ]
  },
  {
   "cell_type": "code",
   "execution_count": null,
   "metadata": {},
   "outputs": [],
   "source": [
    "# Load the trained model\n",
    "model_1 = load_model(\"model_0.h5\")"
   ]
  },
  {
   "cell_type": "code",
   "execution_count": null,
   "metadata": {},
   "outputs": [],
   "source": [
    "def classify_image(img_path):\n",
    "    img = image.load_img(img_path, target_size=(200, 200))\n",
    "    img_array = image.img_to_array(img)\n",
    "    img_array = img_array.reshape((1, 200, 200, 3))\n",
    "    img_array /= 255.0\n",
    "\n",
    "\n",
    "    prediction = model_1.predict(img_array)\n",
    "\n",
    "\n",
    "    confidence_score = prediction[0][0]\n",
    "\n",
    "\n",
    "    score = int(round(confidence_score))\n",
    "\n",
    "\n",
    "    classification = \"Ad creatives\" if  score == 0 else \"Non-Ad creatives\"\n",
    "\n",
    "    return score, classification\n",
    "\n"
   ]
  },
  {
   "cell_type": "code",
   "execution_count": null,
   "metadata": {},
   "outputs": [
    {
     "name": "stdout",
     "output_type": "stream",
     "text": [
      "1/1 [==============================] - 0s 90ms/step\n",
      "0\n",
      "Ad creatives\n"
     ]
    }
   ],
   "source": [
    "img_path = \"./henz_ketchup.png\"\n",
    "label, classification = classify_image(img_path)\n",
    "\n",
    "print(label)\n",
    "print(classification)\n"
   ]
  },
  {
   "cell_type": "code",
   "execution_count": null,
   "metadata": {},
   "outputs": [],
   "source": []
  }
 ],
 "metadata": {
  "kernelspec": {
   "display_name": "apnea",
   "language": "python",
   "name": "python3"
  },
  "language_info": {
   "codemirror_mode": {
    "name": "ipython",
    "version": 3
   },
   "file_extension": ".py",
   "mimetype": "text/x-python",
   "name": "python",
   "nbconvert_exporter": "python",
   "pygments_lexer": "ipython3",
   "version": "3.11.3"
  }
 },
 "nbformat": 4,
 "nbformat_minor": 2
}
